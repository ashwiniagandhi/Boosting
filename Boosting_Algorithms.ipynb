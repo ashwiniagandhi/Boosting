{
 "cells": [
  {
   "cell_type": "markdown",
   "metadata": {
    "id": "jflpv7PA3_5d"
   },
   "source": [
    "### Boosting Algorithms\n",
    "The term ‘Boosting’ refers to a family of algorithms which converts weak learner to strong learners.\n",
    "Boosting is an ensemble technique in which the predictors are not made independently, but sequentially.\n",
    "- Ada Boosting (Adaptive Boosting)\n",
    "- Gradient Tree Boosting\n",
    "- XGBoost (Extreme Gradient Boosting)"
   ]
  },
  {
   "cell_type": "markdown",
   "metadata": {
    "id": "zDiJCfYC3_5f"
   },
   "source": [
    "### How Boosting Algorithms works?"
   ]
  },
  {
   "cell_type": "markdown",
   "metadata": {
    "id": "FlJokkb13_5h"
   },
   "source": [
    "Boosting combines weak learner using base learners to form a strong rule.To find weak rule, we apply base learning (ML) algorithms with a different distribution. Each time base learning algorithm is applied, it generates a new weak prediction rule. This is an iterative process. After many iterations, the boosting algorithm combines these weak rules into a single strong prediction rule.\n",
    "\n",
    "Here’s another question which might haunt you, ‘How do we choose different distribution for each round?’\n",
    "\n",
    "For choosing the right distribution, here are the following steps:\n",
    "\n",
    "**Step 1:** The base learner takes all the distributions and assign equal weight or attention to each observation.\n",
    "\n",
    "**Step 2:** If there is any prediction error caused by first base learning algorithm, then we pay higher attention to observations having prediction error. Then, we apply the next base learning algorithm.\n",
    "\n",
    "**Step 3:** Iterate Step 2 till the limit of base learning algorithm is reached or higher accuracy is achieved.\n",
    "\n",
    "Finally, it combines the outputs from weak learner and creates  a strong learner which eventually improves the prediction power of the model. Boosting pays higher focus on examples which are mis-classiﬁed or have higher errors by preceding weak rules."
   ]
  },
  {
   "cell_type": "markdown",
   "metadata": {
    "id": "Tz3RYEcy3_5j"
   },
   "source": [
    "### Ada Boosting (Adaptive Boosting)"
   ]
  },
  {
   "cell_type": "markdown",
   "metadata": {
    "id": "1iTFbMgU3_5l"
   },
   "source": [
    "![image.png](attachment:image.png)"
   ]
  },
  {
   "cell_type": "markdown",
   "metadata": {
    "id": "2FidR-my3_5n"
   },
   "source": [
    "**Box 1:** You can see that we have assigned equal weights to each data point and applied a decision stump to classify them as + (plus) or – (minus). The decision stump (D1) has generated vertical line at left side to classify the data points. We see that, this vertical line has incorrectly predicted three + (plus) as – (minus). In such case, we’ll assign higher weights to these three + (plus) and apply another decision stump."
   ]
  },
  {
   "cell_type": "markdown",
   "metadata": {
    "id": "o24CQURp3_5q"
   },
   "source": [
    "**Box 2:** Here, you can see that the size of three incorrectly predicted + (plus) is bigger as compared to rest of the data points. In this case, the second decision stump (D2) will try to predict them correctly. Now, a vertical line (D2) at right side of this box has classified three mis-classified + (plus) correctly. But again, it has caused mis-classification errors. This time with three -(minus). Again, we will assign higher weight to three – (minus) and apply another decision stump."
   ]
  },
  {
   "cell_type": "markdown",
   "metadata": {
    "id": "j33it2Vx3_5r"
   },
   "source": [
    "**Box 3:** Here, three – (minus) are given higher weights. A decision stump (D3) is applied to predict these mis-classified observation correctly. This time a horizontal line is generated to classify + (plus) and – (minus) based on higher weight of mis-classified observation."
   ]
  },
  {
   "cell_type": "markdown",
   "metadata": {
    "id": "9jfwjwjo3_5s"
   },
   "source": [
    "**Box 4:** Here, we have combined D1, D2 and D3 to form a strong prediction having complex rule as compared to individual weak learner. You can see that this algorithm has classified these observation quite well as compared to any of individual weak learner."
   ]
  },
  {
   "cell_type": "markdown",
   "metadata": {
    "id": "0yf2_GW23_5u"
   },
   "source": [
    "**AdaBoost (Adaptive Boosting) :** It works on similar method as discussed above. It fits a sequence of weak learners on different weighted training data. It starts by predicting original data set and gives equal weight to each observation. If prediction is incorrect using the first learner, then it gives higher weight to observation which have been predicted incorrectly. Being an iterative process, it continues to add learner(s) until a limit is reached in the number of models or accuracy.\n",
    "\n",
    "Mostly, we use decision stamps with AdaBoost. But, we can use any machine learning algorithms as base learner if it accepts weight on training data set. We can use AdaBoost algorithms for both classification and regression problem."
   ]
  },
  {
   "cell_type": "markdown",
   "metadata": {
    "id": "5ggus6cd3_5v"
   },
   "source": [
    "### Code"
   ]
  },
  {
   "cell_type": "code",
   "execution_count": 1,
   "metadata": {
    "id": "e6n-IgGD3_5x"
   },
   "outputs": [],
   "source": [
    "#Importing packages\n",
    "import pandas as pd\n",
    "from sklearn.ensemble import AdaBoostClassifier #For Classification\n",
    "from sklearn.ensemble import AdaBoostRegressor #For Regression\n",
    "from sklearn.tree import DecisionTreeClassifier"
   ]
  },
  {
   "cell_type": "code",
   "execution_count": 2,
   "metadata": {
    "id": "bLBt6km63_57",
    "outputId": "80a16e9e-af16-4e28-99d2-0c311c562fb5"
   },
   "outputs": [
    {
     "data": {
      "text/html": [
       "<div>\n",
       "<style scoped>\n",
       "    .dataframe tbody tr th:only-of-type {\n",
       "        vertical-align: middle;\n",
       "    }\n",
       "\n",
       "    .dataframe tbody tr th {\n",
       "        vertical-align: top;\n",
       "    }\n",
       "\n",
       "    .dataframe thead th {\n",
       "        text-align: right;\n",
       "    }\n",
       "</style>\n",
       "<table border=\"1\" class=\"dataframe\">\n",
       "  <thead>\n",
       "    <tr style=\"text-align: right;\">\n",
       "      <th></th>\n",
       "      <th>satisfaction_level</th>\n",
       "      <th>last_evaluation</th>\n",
       "      <th>number_project</th>\n",
       "      <th>average_montly_hours</th>\n",
       "      <th>time_spend_company</th>\n",
       "      <th>Work_accident</th>\n",
       "      <th>left</th>\n",
       "      <th>promotion_last_5years</th>\n",
       "      <th>sales</th>\n",
       "      <th>salary</th>\n",
       "    </tr>\n",
       "  </thead>\n",
       "  <tbody>\n",
       "    <tr>\n",
       "      <th>0</th>\n",
       "      <td>0.38</td>\n",
       "      <td>0.53</td>\n",
       "      <td>2</td>\n",
       "      <td>157</td>\n",
       "      <td>3</td>\n",
       "      <td>0</td>\n",
       "      <td>1</td>\n",
       "      <td>0</td>\n",
       "      <td>sales</td>\n",
       "      <td>low</td>\n",
       "    </tr>\n",
       "    <tr>\n",
       "      <th>1</th>\n",
       "      <td>0.80</td>\n",
       "      <td>0.86</td>\n",
       "      <td>5</td>\n",
       "      <td>262</td>\n",
       "      <td>6</td>\n",
       "      <td>0</td>\n",
       "      <td>1</td>\n",
       "      <td>0</td>\n",
       "      <td>sales</td>\n",
       "      <td>medium</td>\n",
       "    </tr>\n",
       "    <tr>\n",
       "      <th>2</th>\n",
       "      <td>0.11</td>\n",
       "      <td>0.88</td>\n",
       "      <td>7</td>\n",
       "      <td>272</td>\n",
       "      <td>4</td>\n",
       "      <td>0</td>\n",
       "      <td>1</td>\n",
       "      <td>0</td>\n",
       "      <td>sales</td>\n",
       "      <td>medium</td>\n",
       "    </tr>\n",
       "    <tr>\n",
       "      <th>3</th>\n",
       "      <td>0.72</td>\n",
       "      <td>0.87</td>\n",
       "      <td>5</td>\n",
       "      <td>223</td>\n",
       "      <td>5</td>\n",
       "      <td>0</td>\n",
       "      <td>1</td>\n",
       "      <td>0</td>\n",
       "      <td>sales</td>\n",
       "      <td>low</td>\n",
       "    </tr>\n",
       "    <tr>\n",
       "      <th>4</th>\n",
       "      <td>0.37</td>\n",
       "      <td>0.52</td>\n",
       "      <td>2</td>\n",
       "      <td>159</td>\n",
       "      <td>3</td>\n",
       "      <td>0</td>\n",
       "      <td>1</td>\n",
       "      <td>0</td>\n",
       "      <td>sales</td>\n",
       "      <td>low</td>\n",
       "    </tr>\n",
       "  </tbody>\n",
       "</table>\n",
       "</div>"
      ],
      "text/plain": [
       "   satisfaction_level  last_evaluation  number_project  average_montly_hours  \\\n",
       "0                0.38             0.53               2                   157   \n",
       "1                0.80             0.86               5                   262   \n",
       "2                0.11             0.88               7                   272   \n",
       "3                0.72             0.87               5                   223   \n",
       "4                0.37             0.52               2                   159   \n",
       "\n",
       "   time_spend_company  Work_accident  left  promotion_last_5years  sales  \\\n",
       "0                   3              0     1                      0  sales   \n",
       "1                   6              0     1                      0  sales   \n",
       "2                   4              0     1                      0  sales   \n",
       "3                   5              0     1                      0  sales   \n",
       "4                   3              0     1                      0  sales   \n",
       "\n",
       "   salary  \n",
       "0     low  \n",
       "1  medium  \n",
       "2  medium  \n",
       "3     low  \n",
       "4     low  "
      ]
     },
     "execution_count": 2,
     "metadata": {},
     "output_type": "execute_result"
    }
   ],
   "source": [
    "# reading the data\n",
    "df = pd.read_csv('HR_comma_sep.csv')\n",
    "df.head()"
   ]
  },
  {
   "cell_type": "code",
   "execution_count": 3,
   "metadata": {
    "id": "aNvFpaqp3_6H",
    "outputId": "efb346a0-ecb7-484a-a5e7-6f24775bf739"
   },
   "outputs": [
    {
     "data": {
      "text/plain": [
       "(14999, 10)"
      ]
     },
     "execution_count": 3,
     "metadata": {},
     "output_type": "execute_result"
    }
   ],
   "source": [
    "df.shape"
   ]
  },
  {
   "cell_type": "code",
   "execution_count": 4,
   "metadata": {
    "id": "a58luONl3_6O",
    "outputId": "75736864-073a-4ccd-bc50-e1193c24bcd5"
   },
   "outputs": [
    {
     "data": {
      "text/plain": [
       "Index(['satisfaction_level', 'last_evaluation', 'number_project',\n",
       "       'average_montly_hours', 'time_spend_company', 'Work_accident', 'left',\n",
       "       'promotion_last_5years', 'sales', 'salary'],\n",
       "      dtype='object')"
      ]
     },
     "execution_count": 4,
     "metadata": {},
     "output_type": "execute_result"
    }
   ],
   "source": [
    "df.columns"
   ]
  },
  {
   "cell_type": "code",
   "execution_count": 5,
   "metadata": {
    "id": "I75uQ5KL3_6f",
    "outputId": "0dc0835c-0aef-4f51-aca8-046b75248d8a"
   },
   "outputs": [
    {
     "data": {
      "text/plain": [
       "satisfaction_level       0\n",
       "last_evaluation          0\n",
       "number_project           0\n",
       "average_montly_hours     0\n",
       "time_spend_company       0\n",
       "Work_accident            0\n",
       "left                     0\n",
       "promotion_last_5years    0\n",
       "sales                    0\n",
       "salary                   0\n",
       "dtype: int64"
      ]
     },
     "execution_count": 5,
     "metadata": {},
     "output_type": "execute_result"
    }
   ],
   "source": [
    "df.isnull().sum()"
   ]
  },
  {
   "cell_type": "code",
   "execution_count": 6,
   "metadata": {
    "id": "LB-FNOmn3_6o",
    "outputId": "8b88d7ec-199f-4a61-d635-c80251a69aa0"
   },
   "outputs": [
    {
     "name": "stdout",
     "output_type": "stream",
     "text": [
      "<class 'pandas.core.frame.DataFrame'>\n",
      "RangeIndex: 14999 entries, 0 to 14998\n",
      "Data columns (total 10 columns):\n",
      " #   Column                 Non-Null Count  Dtype  \n",
      "---  ------                 --------------  -----  \n",
      " 0   satisfaction_level     14999 non-null  float64\n",
      " 1   last_evaluation        14999 non-null  float64\n",
      " 2   number_project         14999 non-null  int64  \n",
      " 3   average_montly_hours   14999 non-null  int64  \n",
      " 4   time_spend_company     14999 non-null  int64  \n",
      " 5   Work_accident          14999 non-null  int64  \n",
      " 6   left                   14999 non-null  int64  \n",
      " 7   promotion_last_5years  14999 non-null  int64  \n",
      " 8   sales                  14999 non-null  object \n",
      " 9   salary                 14999 non-null  object \n",
      "dtypes: float64(2), int64(6), object(2)\n",
      "memory usage: 1.1+ MB\n"
     ]
    }
   ],
   "source": [
    "df.info()"
   ]
  },
  {
   "cell_type": "code",
   "execution_count": 7,
   "metadata": {
    "id": "abhdLGys3_6y"
   },
   "outputs": [],
   "source": [
    "df['last_evaluation'] = df['last_evaluation'].fillna(df['last_evaluation'].mean())\n",
    "df['number_project'] = df['number_project'].fillna(df['number_project'].mean())\n",
    "df['average_montly_hours'] = df['average_montly_hours'].fillna(df['average_montly_hours'].mean())\n",
    "df['time_spend_company'] = df['time_spend_company'].fillna(df['time_spend_company'].mean())\n",
    "df['Work_accident'] = df['Work_accident'].fillna(df['Work_accident'].mean())\n",
    "df['left'] = df['left'].fillna(df['left'].mode()[0])\n",
    "df['promotion_last_5years'] = df['promotion_last_5years'].fillna(df['promotion_last_5years'].mean())\n",
    "df['sales'] = df['sales'].fillna(df['sales'].mode()[0])\n",
    "df['salary'] = df['salary'].fillna(df['salary'].mode()[0])"
   ]
  },
  {
   "cell_type": "code",
   "execution_count": 8,
   "metadata": {
    "id": "7W4Y7VfE3_66",
    "outputId": "76a71543-ec49-4cf2-ba84-cd4200f76075"
   },
   "outputs": [
    {
     "data": {
      "text/plain": [
       "low       7316\n",
       "medium    6446\n",
       "high      1237\n",
       "Name: salary, dtype: int64"
      ]
     },
     "execution_count": 8,
     "metadata": {},
     "output_type": "execute_result"
    }
   ],
   "source": [
    "df.salary.value_counts()"
   ]
  },
  {
   "cell_type": "code",
   "execution_count": 9,
   "metadata": {
    "id": "DgT3Er9z3_7D",
    "outputId": "441ad3fd-1b11-4dcc-f0cb-3dc8abd659ef"
   },
   "outputs": [
    {
     "data": {
      "text/plain": [
       "sales          4140\n",
       "technical      2720\n",
       "support        2229\n",
       "IT             1227\n",
       "product_mng     902\n",
       "marketing       858\n",
       "RandD           787\n",
       "accounting      767\n",
       "hr              739\n",
       "management      630\n",
       "Name: sales, dtype: int64"
      ]
     },
     "execution_count": 9,
     "metadata": {},
     "output_type": "execute_result"
    }
   ],
   "source": [
    "df.sales.value_counts()"
   ]
  },
  {
   "cell_type": "code",
   "execution_count": 10,
   "metadata": {
    "id": "EzaaIF2d3_7K"
   },
   "outputs": [],
   "source": [
    "from sklearn.preprocessing import LabelEncoder\n",
    "lb = LabelEncoder()\n",
    "df['sales'] = lb.fit_transform(df['sales'])"
   ]
  },
  {
   "cell_type": "code",
   "execution_count": 11,
   "metadata": {
    "id": "UAqD8OoH3_7Q",
    "outputId": "2208e668-d7ba-4091-d60e-d661569970f5"
   },
   "outputs": [
    {
     "data": {
      "text/plain": [
       "7    4140\n",
       "9    2720\n",
       "8    2229\n",
       "0    1227\n",
       "6     902\n",
       "5     858\n",
       "1     787\n",
       "2     767\n",
       "3     739\n",
       "4     630\n",
       "Name: sales, dtype: int64"
      ]
     },
     "execution_count": 11,
     "metadata": {},
     "output_type": "execute_result"
    }
   ],
   "source": [
    "df.sales.value_counts()"
   ]
  },
  {
   "cell_type": "code",
   "execution_count": 13,
   "metadata": {
    "id": "519ImE8M3_7X"
   },
   "outputs": [],
   "source": [
    "# separating the independent and dependent variables\n",
    "# independent variable\n",
    "X = df.drop('salary',axis=1)\n",
    "# dependent variable\n",
    "y = df['salary']"
   ]
  },
  {
   "cell_type": "code",
   "execution_count": 14,
   "metadata": {
    "id": "QIkXdrH83_7f",
    "scrolled": true
   },
   "outputs": [],
   "source": [
    "from sklearn.preprocessing import StandardScaler\n",
    "sc = StandardScaler()\n",
    "x_train_sc = sc.fit_transform(X)"
   ]
  },
  {
   "cell_type": "code",
   "execution_count": 15,
   "metadata": {
    "id": "U6-OE-a53_7k",
    "outputId": "8318f7dc-c088-4a6d-e868-265fa28ebe5b"
   },
   "outputs": [
    {
     "name": "stdout",
     "output_type": "stream",
     "text": [
      "(10499, 9) (4500, 9) (10499,) (4500,)\n"
     ]
    }
   ],
   "source": [
    "from sklearn.model_selection import train_test_split\n",
    "x_train,x_test,y_train,y_test = train_test_split(x_train_sc,y,test_size=0.3)\n",
    "print(x_train.shape,x_test.shape,y_train.shape,y_test.shape)"
   ]
  },
  {
   "cell_type": "code",
   "execution_count": 17,
   "metadata": {
    "id": "skFx_8LM3_7q",
    "outputId": "d4a43399-a318-465f-9760-eda7fefb62fd"
   },
   "outputs": [
    {
     "data": {
      "text/plain": [
       "AdaBoostClassifier(base_estimator=DecisionTreeClassifier(class_weight='balanced'),\n",
       "                   learning_rate=1, n_estimators=100)"
      ]
     },
     "execution_count": 17,
     "metadata": {},
     "output_type": "execute_result"
    }
   ],
   "source": [
    "# Now we will use decision tree as a base estimator, you can use any ML learner as base estimator if it accepts sample weight \n",
    "dt = DecisionTreeClassifier(class_weight=\"balanced\") \n",
    "clf = AdaBoostClassifier(n_estimators=100, base_estimator=dt,learning_rate=1)\n",
    "\n",
    "# training the model\n",
    "clf.fit(x_train,y_train)"
   ]
  },
  {
   "cell_type": "code",
   "execution_count": null,
   "metadata": {
    "id": "aHXaGihe3_7y",
    "outputId": "f22f1f57-d110-4bef-948e-d589f2cd3375"
   },
   "outputs": [],
   "source": [
    "# predict the target on the train dataset\n",
    "predict_train = clf.predict(x_train)\n",
    "print('\\nTarget on train data',predict_train) \n",
    "\n",
    "# Accuray Score on train dataset\n",
    "accuracy_train = accuracy_score(y_train,predict_train)\n",
    "print('\\naccuracy_score on train dataset : ', accuracy_train)\n"
   ]
  },
  {
   "cell_type": "code",
   "execution_count": null,
   "metadata": {
    "id": "SqX-rpbW3_75",
    "outputId": "d229a829-736e-4305-f046-636486122c9e"
   },
   "outputs": [],
   "source": [
    "# predict the target on the test dataset\n",
    "predict_test = clf.predict(x_test)\n",
    "print('\\nTarget on test data',predict_test) \n",
    "\n",
    "# Accuracy Score on test dataset\n",
    "accuracy_test = accuracy_score(y_test,predict_test)\n",
    "print('\\naccuracy_score on test dataset : ', accuracy_test)"
   ]
  },
  {
   "cell_type": "markdown",
   "metadata": {
    "id": "EV1pIqHg3_8C"
   },
   "source": [
    "We can tune the parameters to optimize the performance of algorithms, I’ve mentioned below the key parameters for tuning:\n",
    "\n",
    "**n_estimators:** It controls the number of weak learners.<br>\n",
    "**learning_rate:** Controls the contribution of weak learners in the final combination. There is a trade-off between learning_rate and n_estimators.<br>\n",
    "**base_estimators:** It helps to specify different ML algorithm.<br>\n",
    "We can also tune the parameters of base learners to optimize its performance."
   ]
  },
  {
   "cell_type": "markdown",
   "metadata": {
    "id": "61TMCLj_3_8D"
   },
   "source": [
    "### Gradient Boosting\n",
    "A Gradient Boosting Machine or GBM combines the predictions from multiple decision trees to generate the final predictions. Keep in mind that all the weak learners in a gradient boosting machine are decision trees.But if we are using the same algorithm, then how is using a hundred decision trees better than using a single decision tree? How do different decision trees capture different signals/information from the data?\n",
    "\n",
    "Here is the trick – the nodes in every decision tree take a different subset of features for selecting the best split. This means that the individual trees aren’t all the same and hence they are able to capture different signals from the data.\n",
    "Additionally, each new tree takes into account the errors or mistakes made by the previous trees. So, every successive decision tree is built on the errors of the previous trees. This is how the trees in a gradient boosting machine algorithm are built sequentially."
   ]
  },
  {
   "cell_type": "markdown",
   "metadata": {
    "id": "OPc6iALx3_8F"
   },
   "source": [
    "In gradient boosting, it trains many model sequentially. Each new model gradually minimizes the loss function (y = ax + b + e, e needs special attention as it is an error term) of the whole system using Gradient Descent method. The learning procedure consecutively fit new models to provide a more accurate estimate of the response variable.\n",
    "\n",
    "The principle idea behind this algorithm is to construct new base learners which can be maximally correlated with negative gradient of the loss function, associated with the whole ensemble.\n",
    "\n",
    "In Python Sklearn library, we use Gradient Tree Boosting or GBRT. It is a generalization of boosting to arbitrary differentiable loss functions. It can be used for both regression and classification problems."
   ]
  },
  {
   "cell_type": "code",
   "execution_count": null,
   "metadata": {
    "id": "M2Sre0Qv3_8H"
   },
   "outputs": [],
   "source": [
    "from sklearn.ensemble import GradientBoostingClassifier\n",
    "from sklearn.ensemble import GradientBoostingRegressor"
   ]
  },
  {
   "cell_type": "code",
   "execution_count": null,
   "metadata": {
    "id": "_7gLIuxM3_8P",
    "outputId": "cad2830d-b063-4f03-82c0-0cde345aa88c"
   },
   "outputs": [],
   "source": [
    "clf = GradientBoostingClassifier(n_estimators=100, learning_rate=1.0, max_depth=1)\n",
    "clf.fit(x_train, y_train)"
   ]
  },
  {
   "cell_type": "code",
   "execution_count": null,
   "metadata": {
    "id": "DRpiNF383_8V",
    "outputId": "bfdbe839-4f70-4e3d-e3e8-a92dbbbcb7c8"
   },
   "outputs": [],
   "source": [
    "# predict the target on the train dataset\n",
    "predict_train = clf.predict(x_train)\n",
    "print('\\nTarget on train data',predict_train) \n",
    "\n",
    "# Accuray Score on train dataset\n",
    "accuracy_train = accuracy_score(y_train,predict_train)\n",
    "print('\\naccuracy_score on train dataset : ', accuracy_train)\n"
   ]
  },
  {
   "cell_type": "code",
   "execution_count": null,
   "metadata": {
    "id": "MFyni9Zt3_8b",
    "outputId": "8670c472-e0a6-4105-86c1-2942ea41cdf8"
   },
   "outputs": [],
   "source": [
    "# predict the target on the test dataset\n",
    "predict_test = clf.predict(x_test)\n",
    "print('\\nTarget on test data',predict_test) \n",
    "\n",
    "# Accuracy Score on test dataset\n",
    "accuracy_test = accuracy_score(y_test,predict_test)\n",
    "print('\\naccuracy_score on test dataset : ', accuracy_test)"
   ]
  },
  {
   "cell_type": "markdown",
   "metadata": {
    "id": "4satiu2L3_8j"
   },
   "source": [
    "**n_estimators:** It controls the number of weak learners.\n",
    "\n",
    "**learning_rate:** Controls the contribution of weak learners in the final combination. There is a trade-off between learning_rate and n_estimators.\n",
    "\n",
    "**max_depth:** maximum depth of the individual regression estimators. The maximum depth limits the number of nodes in the tree. Tune this parameter for best performance; the best value depends on the interaction of the input variables.\n",
    "\n",
    "We can tune loss function for better performance."
   ]
  },
  {
   "cell_type": "markdown",
   "metadata": {
    "id": "JOhFdGB93_8l"
   },
   "source": [
    "### Extreme Gradient Boosting\n",
    "Extreme Gradient Boosting or XGBoost is another popular boosting algorithm. In fact, XGBoost is simply an improvised version of the GBM algorithm! The working procedure of XGBoost is the same as GBM. The trees in XGBoost are built sequentially, trying to correct the errors of the previous trees.\n",
    "\n",
    "But there are certain features that make XGBoost slightly better than GBM:\n",
    "\n",
    "- One of the most important points is that XGBM implements parallel preprocessing (at the node level) which makes it faster than GBM\n",
    "- XGBoost also includes a variety of regularization techniques that reduce overfitting and improve overall performance. You can select the regularization technique by setting the hyperparameters of the XGBoost algorithm"
   ]
  },
  {
   "cell_type": "code",
   "execution_count": null,
   "metadata": {
    "id": "btCypAah3_8m",
    "outputId": "00c02978-b933-4d5d-f576-d9d2605de59f"
   },
   "outputs": [],
   "source": [
    "from xgboost import XGBClassifier\n",
    "model = XGBClassifier()\n",
    "\n",
    "# fit the model with the training data\n",
    "model.fit(x_train,y_train)"
   ]
  },
  {
   "cell_type": "code",
   "execution_count": null,
   "metadata": {
    "id": "pfVx4DRT3_8r",
    "outputId": "a440a6da-6ce7-41fc-a39a-732ef6c8dfd9"
   },
   "outputs": [],
   "source": [
    "# predict the target on the train dataset\n",
    "predict_train = model.predict(x_train)\n",
    "print('\\nTarget on train data',predict_train) \n",
    "\n",
    "# Accuray Score on train dataset\n",
    "accuracy_train = accuracy_score(y_train,predict_train)\n",
    "print('\\naccuracy_score on train dataset : ', accuracy_train)\n"
   ]
  },
  {
   "cell_type": "code",
   "execution_count": null,
   "metadata": {
    "id": "H93UE3aZ3_8z",
    "outputId": "08fc3971-e612-4c3a-ad92-e6a80ffefb9b"
   },
   "outputs": [],
   "source": [
    "# predict the target on the test dataset\n",
    "predict_test = model.predict(x_test)\n",
    "print('\\nTarget on test data',predict_test) \n",
    "\n",
    "# Accuracy Score on test dataset\n",
    "accuracy_test = accuracy_score(y_test,predict_test)\n",
    "print('\\naccuracy_score on test dataset : ', accuracy_test)"
   ]
  },
  {
   "cell_type": "markdown",
   "metadata": {
    "id": "__SOq2E43_88"
   },
   "source": [
    "We can also tune the hyper parameters to optimize its performance."
   ]
  },
  {
   "cell_type": "code",
   "execution_count": null,
   "metadata": {
    "id": "RQqukRjIZuoo"
   },
   "outputs": [],
   "source": [
    "UnSupervised Learning\n",
    "\n",
    "KMeans++\n",
    "\n",
    "KMeans(init=Kmean++)\n",
    "\n",
    "Hierarchical Clustering"
   ]
  },
  {
   "cell_type": "code",
   "execution_count": null,
   "metadata": {
    "id": "l2SJ-t0abcQ6"
   },
   "outputs": [],
   "source": [
    "Supervised Learning\n",
    "\n",
    "Linear Regression\n",
    "Logistic regression\n",
    "KNN\n",
    "Naive Bayes\n",
    "Decision TRee\n",
    "Random Forest\n",
    "SVM\n",
    "Gradient Boosting,AdaBoost,XGBoost"
   ]
  }
 ],
 "metadata": {
  "colab": {
   "name": "Boosting Algorithms.ipynb",
   "provenance": []
  },
  "kernelspec": {
   "display_name": "Python 3",
   "language": "python",
   "name": "python3"
  },
  "language_info": {
   "codemirror_mode": {
    "name": "ipython",
    "version": 3
   },
   "file_extension": ".py",
   "mimetype": "text/x-python",
   "name": "python",
   "nbconvert_exporter": "python",
   "pygments_lexer": "ipython3",
   "version": "3.7.3"
  }
 },
 "nbformat": 4,
 "nbformat_minor": 1
}
